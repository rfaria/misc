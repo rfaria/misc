{
  "nbformat": 4,
  "nbformat_minor": 0,
  "metadata": {
    "colab": {
      "name": "aula_00_nivelamento.ipynb",
      "provenance": [],
      "collapsed_sections": [],
      "include_colab_link": true
    },
    "kernelspec": {
      "name": "python3",
      "display_name": "Python 3"
    },
    "language_info": {
      "name": "python"
    }
  },
  "cells": [
    {
      "cell_type": "markdown",
      "metadata": {
        "id": "view-in-github",
        "colab_type": "text"
      },
      "source": [
        "<a href=\"https://colab.research.google.com/github/rfaria/misc/blob/main/aula_00_python.ipynb\" target=\"_parent\"><img src=\"https://colab.research.google.com/assets/colab-badge.svg\" alt=\"Open In Colab\"/></a>"
      ]
    },
    {
      "cell_type": "markdown",
      "metadata": {
        "id": "iSlA3Zmuv1Ag"
      },
      "source": [
        "# Aula 00 - Nivelamento"
      ]
    },
    {
      "cell_type": "markdown",
      "metadata": {
        "id": "7e7CEgV3dqBv"
      },
      "source": [
        "# Testes Iniciais\n",
        "\n",
        "### Primeiros passos"
      ]
    },
    {
      "cell_type": "markdown",
      "metadata": {
        "id": "B3f1Eb2fURWJ"
      },
      "source": [
        "| Operator     | Name           | Description                                            |\n",
        "|--------------|----------------|--------------------------------------------------------|\n",
        "| ``a + b``    | Addition       | Sum of ``a`` and ``b``                                 |\n",
        "| ``a - b``    | Subtraction    | Difference of ``a`` and ``b``                          |\n",
        "| ``a * b``    | Multiplication | Product of ``a`` and ``b``                             |\n",
        "| ``a / b``    | True division  | Quotient of ``a`` and ``b``                            |\n",
        "| ``a // b``   | Floor division | Quotient of ``a`` and ``b``, removing fractional parts |\n",
        "| ``a % b``    | Modulus        | Integer remainder after division of ``a`` by ``b``     |\n",
        "| ``a ** b``   | Exponentiation | ``a`` raised to the power of ``b``                     |\n",
        "| ``-a``       | Negation       | The negative of ``a``                                  |\n"
      ]
    },
    {
      "cell_type": "code",
      "metadata": {
        "colab": {
          "base_uri": "https://localhost:8080/"
        },
        "id": "z3ySKf9Ad7l3",
        "outputId": "8775819d-8c66-4ae8-f6ae-7bd6339f8f8c"
      },
      "source": [
        "1 + 2"
      ],
      "execution_count": null,
      "outputs": [
        {
          "output_type": "execute_result",
          "data": {
            "text/plain": [
              "3"
            ]
          },
          "metadata": {},
          "execution_count": 1
        }
      ]
    },
    {
      "cell_type": "code",
      "metadata": {
        "colab": {
          "base_uri": "https://localhost:8080/"
        },
        "id": "Nl04__bPeVIx",
        "outputId": "0b393105-e822-4be7-a2f0-0b9e00891a8e"
      },
      "source": [
        "4 - 3"
      ],
      "execution_count": null,
      "outputs": [
        {
          "output_type": "execute_result",
          "data": {
            "text/plain": [
              "1"
            ]
          },
          "metadata": {},
          "execution_count": 2
        }
      ]
    },
    {
      "cell_type": "code",
      "metadata": {
        "colab": {
          "base_uri": "https://localhost:8080/"
        },
        "id": "4NL_UHJoeaKc",
        "outputId": "6e500cca-67fb-4f5e-b915-d174f4d41a3d"
      },
      "source": [
        "3 * 4"
      ],
      "execution_count": null,
      "outputs": [
        {
          "output_type": "execute_result",
          "data": {
            "text/plain": [
              "12"
            ]
          },
          "metadata": {},
          "execution_count": 3
        }
      ]
    },
    {
      "cell_type": "code",
      "metadata": {
        "colab": {
          "base_uri": "https://localhost:8080/"
        },
        "id": "kbak24OiebP2",
        "outputId": "fd840594-6e8c-4803-80a2-4074ce46776e"
      },
      "source": [
        "7 / 2"
      ],
      "execution_count": null,
      "outputs": [
        {
          "output_type": "execute_result",
          "data": {
            "text/plain": [
              "3.5"
            ]
          },
          "metadata": {},
          "execution_count": 4
        }
      ]
    },
    {
      "cell_type": "code",
      "metadata": {
        "colab": {
          "base_uri": "https://localhost:8080/"
        },
        "id": "65eDjUg9ecnD",
        "outputId": "0e87c205-bdab-4c48-a433-d7e72375b0ae"
      },
      "source": [
        "7 // 2"
      ],
      "execution_count": null,
      "outputs": [
        {
          "output_type": "execute_result",
          "data": {
            "text/plain": [
              "3"
            ]
          },
          "metadata": {},
          "execution_count": 5
        }
      ]
    },
    {
      "cell_type": "code",
      "metadata": {
        "colab": {
          "base_uri": "https://localhost:8080/"
        },
        "id": "g3UVu-ueeinM",
        "outputId": "55926390-6229-4ad0-fa49-e5b71a797f8e"
      },
      "source": [
        "7 % 2"
      ],
      "execution_count": null,
      "outputs": [
        {
          "output_type": "execute_result",
          "data": {
            "text/plain": [
              "1"
            ]
          },
          "metadata": {},
          "execution_count": 6
        }
      ]
    },
    {
      "cell_type": "code",
      "metadata": {
        "colab": {
          "base_uri": "https://localhost:8080/"
        },
        "id": "hI4ytfz5env9",
        "outputId": "e77f6850-bdbc-47d4-8416-c100b96c317a"
      },
      "source": [
        "8 ** 2"
      ],
      "execution_count": null,
      "outputs": [
        {
          "output_type": "execute_result",
          "data": {
            "text/plain": [
              "64"
            ]
          },
          "metadata": {},
          "execution_count": 7
        }
      ]
    },
    {
      "cell_type": "code",
      "metadata": {
        "colab": {
          "base_uri": "https://localhost:8080/"
        },
        "id": "r29plgGWevno",
        "outputId": "ba5799eb-c280-45e9-f5ed-a1bba1d4a712"
      },
      "source": [
        "- 5"
      ],
      "execution_count": null,
      "outputs": [
        {
          "output_type": "execute_result",
          "data": {
            "text/plain": [
              "-5"
            ]
          },
          "metadata": {},
          "execution_count": 8
        }
      ]
    },
    {
      "cell_type": "code",
      "metadata": {
        "colab": {
          "base_uri": "https://localhost:8080/"
        },
        "id": "alFRwdHhexO-",
        "outputId": "d69ef8d6-5eb1-49b6-a645-bc62e5ae048d"
      },
      "source": [
        "print(\"Hello, World!\")"
      ],
      "execution_count": null,
      "outputs": [
        {
          "output_type": "stream",
          "name": "stdout",
          "text": [
            "Hello, World!\n"
          ]
        }
      ]
    },
    {
      "cell_type": "markdown",
      "metadata": {
        "id": "UJ7khJ4vgnl2"
      },
      "source": [
        "# Variáveis"
      ]
    },
    {
      "cell_type": "markdown",
      "metadata": {
        "id": "k0loMWBXhwbn"
      },
      "source": [
        "## Inteiros"
      ]
    },
    {
      "cell_type": "code",
      "metadata": {
        "id": "nisYKDeXgp-p"
      },
      "source": [
        "idade = 37"
      ],
      "execution_count": null,
      "outputs": []
    },
    {
      "cell_type": "code",
      "metadata": {
        "colab": {
          "base_uri": "https://localhost:8080/"
        },
        "id": "ksVkb7HRgxtC",
        "outputId": "89fbabb3-6cb4-4fd1-92ba-0b3c8fe98192"
      },
      "source": [
        "idade + 55"
      ],
      "execution_count": null,
      "outputs": [
        {
          "output_type": "execute_result",
          "data": {
            "text/plain": [
              "93"
            ]
          },
          "metadata": {},
          "execution_count": 20
        }
      ]
    },
    {
      "cell_type": "code",
      "metadata": {
        "id": "oCifVAvwg2_a"
      },
      "source": [
        "idade = idade + 1"
      ],
      "execution_count": null,
      "outputs": []
    },
    {
      "cell_type": "code",
      "metadata": {
        "colab": {
          "base_uri": "https://localhost:8080/"
        },
        "id": "2zDHrqKWg5Xy",
        "outputId": "4335fc42-c441-4efd-8139-6b886c34967d"
      },
      "source": [
        "idade"
      ],
      "execution_count": null,
      "outputs": [
        {
          "output_type": "execute_result",
          "data": {
            "text/plain": [
              "40"
            ]
          },
          "metadata": {},
          "execution_count": 24
        }
      ]
    },
    {
      "cell_type": "code",
      "metadata": {
        "id": "xusZzmMnhOOy"
      },
      "source": [
        "x = 2\n",
        "y = 3\n",
        "z = 5"
      ],
      "execution_count": null,
      "outputs": []
    },
    {
      "cell_type": "code",
      "metadata": {
        "colab": {
          "base_uri": "https://localhost:8080/"
        },
        "id": "SYQX7OCUhcii",
        "outputId": "a1ba3a8e-ee1a-464f-907d-c8a591630e8f"
      },
      "source": [
        "x + y + z"
      ],
      "execution_count": null,
      "outputs": [
        {
          "output_type": "execute_result",
          "data": {
            "text/plain": [
              "10"
            ]
          },
          "metadata": {},
          "execution_count": 26
        }
      ]
    },
    {
      "cell_type": "markdown",
      "metadata": {
        "id": "S1CdHZxChyyb"
      },
      "source": [
        "## Strings"
      ]
    },
    {
      "cell_type": "code",
      "metadata": {
        "id": "ccyEF2zJheqe"
      },
      "source": [
        "palavra = \"teste\""
      ],
      "execution_count": null,
      "outputs": []
    },
    {
      "cell_type": "code",
      "metadata": {
        "colab": {
          "base_uri": "https://localhost:8080/"
        },
        "id": "Vy37J4T7h3cX",
        "outputId": "12a7025b-335d-4467-da60-ef46fd988533"
      },
      "source": [
        "print(palavra)"
      ],
      "execution_count": null,
      "outputs": [
        {
          "output_type": "stream",
          "name": "stdout",
          "text": [
            "teste\n"
          ]
        }
      ]
    },
    {
      "cell_type": "code",
      "metadata": {
        "colab": {
          "base_uri": "https://localhost:8080/",
          "height": 35
        },
        "id": "SrMfTgf4h6-y",
        "outputId": "bad46d2f-ff57-49f6-e341-e6b43431d49f"
      },
      "source": [
        "5 * palavra"
      ],
      "execution_count": null,
      "outputs": [
        {
          "output_type": "execute_result",
          "data": {
            "application/vnd.google.colaboratory.intrinsic+json": {
              "type": "string"
            },
            "text/plain": [
              "'testetestetestetesteteste'"
            ]
          },
          "metadata": {},
          "execution_count": 29
        }
      ]
    },
    {
      "cell_type": "code",
      "metadata": {
        "id": "JItD8kTZh_wZ"
      },
      "source": [
        "nome = \"maria\""
      ],
      "execution_count": null,
      "outputs": []
    },
    {
      "cell_type": "code",
      "metadata": {
        "colab": {
          "base_uri": "https://localhost:8080/",
          "height": 35
        },
        "id": "i0o77RaPiHXg",
        "outputId": "f8ff8d55-b3a6-441a-d4ec-30d616341d57"
      },
      "source": [
        "palavra + nome"
      ],
      "execution_count": null,
      "outputs": [
        {
          "output_type": "execute_result",
          "data": {
            "application/vnd.google.colaboratory.intrinsic+json": {
              "type": "string"
            },
            "text/plain": [
              "'testemaria'"
            ]
          },
          "metadata": {},
          "execution_count": 31
        }
      ]
    },
    {
      "cell_type": "code",
      "metadata": {
        "id": "PNmHJIlqiJqD"
      },
      "source": [
        "t = 'abcd'"
      ],
      "execution_count": null,
      "outputs": []
    },
    {
      "cell_type": "code",
      "metadata": {
        "colab": {
          "base_uri": "https://localhost:8080/",
          "height": 35
        },
        "id": "jtV4VfI6iR2_",
        "outputId": "830a57c1-3268-4104-ade0-8958b4b5ff0c"
      },
      "source": [
        "t"
      ],
      "execution_count": null,
      "outputs": [
        {
          "output_type": "execute_result",
          "data": {
            "application/vnd.google.colaboratory.intrinsic+json": {
              "type": "string"
            },
            "text/plain": [
              "'abcd'"
            ]
          },
          "metadata": {},
          "execution_count": 33
        }
      ]
    },
    {
      "cell_type": "code",
      "metadata": {
        "colab": {
          "base_uri": "https://localhost:8080/",
          "height": 35
        },
        "id": "uQ3PJUeSiSj2",
        "outputId": "0b66027b-4814-4c68-d8ee-813b5e833762"
      },
      "source": [
        "nome + palavra + t"
      ],
      "execution_count": null,
      "outputs": [
        {
          "output_type": "execute_result",
          "data": {
            "application/vnd.google.colaboratory.intrinsic+json": {
              "type": "string"
            },
            "text/plain": [
              "'mariatesteabcd'"
            ]
          },
          "metadata": {},
          "execution_count": 34
        }
      ]
    },
    {
      "cell_type": "code",
      "metadata": {
        "id": "YfL4j7gQiUZs"
      },
      "source": [
        "texto = \"Isto é um texto para testes\\nEste pedaço está na linha de baixo\""
      ],
      "execution_count": null,
      "outputs": []
    },
    {
      "cell_type": "code",
      "metadata": {
        "colab": {
          "base_uri": "https://localhost:8080/"
        },
        "id": "6FbgZ92Fib6E",
        "outputId": "960d3168-b97e-412e-c6f4-f8a441aa72dd"
      },
      "source": [
        "print(texto)"
      ],
      "execution_count": null,
      "outputs": [
        {
          "output_type": "stream",
          "name": "stdout",
          "text": [
            "Isto é um texto para testes\n",
            "Este pedaço está na linha de baixo\n"
          ]
        }
      ]
    },
    {
      "cell_type": "code",
      "metadata": {
        "colab": {
          "base_uri": "https://localhost:8080/"
        },
        "id": "RWTNkR35i85J",
        "outputId": "0232292e-b25a-498a-907d-c96844c8dc4a"
      },
      "source": [
        "# procurando listagem de todas as variáveis\n",
        "# globals()\n",
        "# locals()\n",
        "%who"
      ],
      "execution_count": null,
      "outputs": [
        {
          "output_type": "stream",
          "name": "stdout",
          "text": [
            "idade\t nome\t palavra\t t\t texto\t x\t y\t z\t \n"
          ]
        }
      ]
    },
    {
      "cell_type": "code",
      "metadata": {
        "colab": {
          "base_uri": "https://localhost:8080/"
        },
        "id": "HudRFz_djbi1",
        "outputId": "7c7ed81a-fb14-4dd0-e8fd-9813bff4dc43"
      },
      "source": [
        "linhas = int(input())"
      ],
      "execution_count": null,
      "outputs": [
        {
          "name": "stdout",
          "output_type": "stream",
          "text": [
            "100\n"
          ]
        }
      ]
    },
    {
      "cell_type": "code",
      "metadata": {
        "colab": {
          "base_uri": "https://localhost:8080/"
        },
        "id": "AbRYYhwckDMe",
        "outputId": "b5b343db-4cd5-4b25-f6ac-fba070e562a4"
      },
      "source": [
        "print(\"Serão usadas\",str(linhas),\"linhas\")"
      ],
      "execution_count": null,
      "outputs": [
        {
          "output_type": "stream",
          "name": "stdout",
          "text": [
            "Serão usadas 100 linhas\n"
          ]
        }
      ]
    },
    {
      "cell_type": "code",
      "metadata": {
        "colab": {
          "base_uri": "https://localhost:8080/"
        },
        "id": "0sc5NkP9kD0s",
        "outputId": "d156415f-0284-4487-fb7a-50bd44c10f5b"
      },
      "source": [
        "float(linhas) + 123"
      ],
      "execution_count": null,
      "outputs": [
        {
          "output_type": "execute_result",
          "data": {
            "text/plain": [
              "223.0"
            ]
          },
          "metadata": {},
          "execution_count": 73
        }
      ]
    },
    {
      "cell_type": "markdown",
      "metadata": {
        "id": "vSeI-4gtlymu"
      },
      "source": [
        "# Inteiros x Reais"
      ]
    },
    {
      "cell_type": "code",
      "metadata": {
        "id": "ysbfbJojl1NC"
      },
      "source": [
        "a = 1\n",
        "b = 1.5"
      ],
      "execution_count": null,
      "outputs": []
    },
    {
      "cell_type": "code",
      "metadata": {
        "id": "a-1YS6WUl9XM"
      },
      "source": [
        "c = a + int(b)"
      ],
      "execution_count": null,
      "outputs": []
    },
    {
      "cell_type": "code",
      "metadata": {
        "colab": {
          "base_uri": "https://localhost:8080/"
        },
        "id": "BQoCu20ymAuE",
        "outputId": "5beb6190-505d-4326-cfbf-51f36c5b274f"
      },
      "source": [
        "c"
      ],
      "execution_count": null,
      "outputs": [
        {
          "output_type": "execute_result",
          "data": {
            "text/plain": [
              "2"
            ]
          },
          "metadata": {},
          "execution_count": 82
        }
      ]
    },
    {
      "cell_type": "code",
      "metadata": {
        "id": "1HQ6I3jQmOwV"
      },
      "source": [
        "c = \"texto\""
      ],
      "execution_count": null,
      "outputs": []
    },
    {
      "cell_type": "code",
      "metadata": {
        "colab": {
          "base_uri": "https://localhost:8080/",
          "height": 35
        },
        "id": "J0PjEq4bmP7K",
        "outputId": "d4360a00-cd97-4502-d9f5-1c273006c65c"
      },
      "source": [
        "c"
      ],
      "execution_count": null,
      "outputs": [
        {
          "output_type": "execute_result",
          "data": {
            "application/vnd.google.colaboratory.intrinsic+json": {
              "type": "string"
            },
            "text/plain": [
              "'texto'"
            ]
          },
          "metadata": {},
          "execution_count": 84
        }
      ]
    },
    {
      "cell_type": "code",
      "metadata": {
        "id": "ydrIi7KRmiM6"
      },
      "source": [
        "d = 7"
      ],
      "execution_count": null,
      "outputs": []
    },
    {
      "cell_type": "code",
      "metadata": {
        "colab": {
          "base_uri": "https://localhost:8080/"
        },
        "id": "OTjgvdS3mkKj",
        "outputId": "6988eb00-1e53-42c7-8579-c91530f6da39"
      },
      "source": [
        "type(d)"
      ],
      "execution_count": null,
      "outputs": [
        {
          "output_type": "execute_result",
          "data": {
            "text/plain": [
              "int"
            ]
          },
          "metadata": {},
          "execution_count": 87
        }
      ]
    },
    {
      "cell_type": "code",
      "metadata": {
        "colab": {
          "base_uri": "https://localhost:8080/"
        },
        "id": "ctKcDhFhml3F",
        "outputId": "1a5126f7-1940-4d85-fbee-f32100937543"
      },
      "source": [
        "d = float(d)\n",
        "type(d)"
      ],
      "execution_count": null,
      "outputs": [
        {
          "output_type": "execute_result",
          "data": {
            "text/plain": [
              "float"
            ]
          },
          "metadata": {},
          "execution_count": 88
        }
      ]
    },
    {
      "cell_type": "code",
      "metadata": {
        "colab": {
          "base_uri": "https://localhost:8080/"
        },
        "id": "lqwyT2RnmtjF",
        "outputId": "b834400b-7417-438f-a78b-c0d15b276a61"
      },
      "source": [
        "d"
      ],
      "execution_count": null,
      "outputs": [
        {
          "output_type": "execute_result",
          "data": {
            "text/plain": [
              "7.0"
            ]
          },
          "metadata": {},
          "execution_count": 89
        }
      ]
    },
    {
      "cell_type": "markdown",
      "metadata": {
        "id": "eQT0CrkOmy-E"
      },
      "source": [
        "# Booleanos"
      ]
    },
    {
      "cell_type": "code",
      "metadata": {
        "id": "eGJCzv5jm0jV"
      },
      "source": [
        "flagVerdade = True\n",
        "flagMentira = False"
      ],
      "execution_count": null,
      "outputs": []
    },
    {
      "cell_type": "markdown",
      "metadata": {
        "id": "4UbRqxyMnYEd"
      },
      "source": [
        "# If - Else (Controle Básico de Fluxo)"
      ]
    },
    {
      "cell_type": "code",
      "metadata": {
        "colab": {
          "base_uri": "https://localhost:8080/"
        },
        "id": "HxJyvwkZnC1e",
        "outputId": "3eafa03b-9091-485f-8902-d9c30ba751b5"
      },
      "source": [
        "# https://www.python.org/dev/peps/pep-0008\n",
        "\n",
        "nome = \"Nenhum\"\n",
        "homem = True\n",
        "\n",
        "if homem == True:\n",
        "  nome = \"João\"\n",
        "else:\n",
        "  nome = \"Maria\"\n",
        "\n",
        "print(nome)"
      ],
      "execution_count": null,
      "outputs": [
        {
          "output_type": "stream",
          "name": "stdout",
          "text": [
            "Maria\n"
          ]
        }
      ]
    },
    {
      "cell_type": "markdown",
      "metadata": {
        "id": "VSMPWCWHwlIP"
      },
      "source": [
        "| Operator\t| Name\t| Example |\n",
        "|-----------|-------|---------|\n",
        "|==\t| Equal\t| x == y\t|\n",
        "|!= |\tNot equal\t| x != y|\t\n",
        "|>\t| Greater than\t|x > y\t|\n",
        "|<\t| Less than|\tx < y\t|\n",
        "|>=\t| Greater than or equal to\t|x >= y|\t\n",
        "|<=\t| Less than or equal to|\tx <= y|"
      ]
    },
    {
      "cell_type": "code",
      "metadata": {
        "id": "w8ep_KcD0m4r"
      },
      "source": [
        "idade = 88\n",
        "\n",
        "if idade <= 40:\n",
        "  print(\"primeiro\")\n",
        "elif idade <= 50:\n",
        "  print(\"segundo\")\n",
        "else:\n",
        "  print(\"terceiro\")"
      ],
      "execution_count": null,
      "outputs": []
    },
    {
      "cell_type": "markdown",
      "metadata": {
        "id": "qnnBCV5qvfz3"
      },
      "source": [
        "# Listas x Tuplas x Dicionários"
      ]
    },
    {
      "cell_type": "code",
      "metadata": {
        "id": "-GMdvjeEwG1I"
      },
      "source": [
        "x = [2,1,7,3,4,5,5,5,5]"
      ],
      "execution_count": null,
      "outputs": []
    },
    {
      "cell_type": "code",
      "metadata": {
        "colab": {
          "base_uri": "https://localhost:8080/"
        },
        "id": "YKj0-GId7Dsk",
        "outputId": "69d6f522-3d49-4940-9e06-50b4b1edd539"
      },
      "source": [
        "print(x)"
      ],
      "execution_count": null,
      "outputs": [
        {
          "output_type": "stream",
          "name": "stdout",
          "text": [
            "[2, 1, 7, 3, 4, 5, 5, 5, 5]\n"
          ]
        }
      ]
    },
    {
      "cell_type": "code",
      "metadata": {
        "colab": {
          "base_uri": "https://localhost:8080/"
        },
        "id": "mvjkRjwY7MWt",
        "outputId": "bab7d7f7-2800-4cb1-dee4-18a5303f4a54"
      },
      "source": [
        "x[5]"
      ],
      "execution_count": null,
      "outputs": [
        {
          "output_type": "execute_result",
          "data": {
            "text/plain": [
              "5"
            ]
          },
          "metadata": {},
          "execution_count": 135
        }
      ]
    },
    {
      "cell_type": "code",
      "metadata": {
        "colab": {
          "base_uri": "https://localhost:8080/"
        },
        "id": "DBqmn9Oj7Vj0",
        "outputId": "4de7a57a-9bde-4a6a-d4fd-1a878646cb66"
      },
      "source": [
        "x[0:4]"
      ],
      "execution_count": null,
      "outputs": [
        {
          "output_type": "execute_result",
          "data": {
            "text/plain": [
              "[2, 1, 7, 3]"
            ]
          },
          "metadata": {},
          "execution_count": 137
        }
      ]
    },
    {
      "cell_type": "code",
      "metadata": {
        "id": "AS_0UnZ37ZNw"
      },
      "source": [
        "lista1 = [12, \"Texto\", True, [1,2,2]]"
      ],
      "execution_count": null,
      "outputs": []
    },
    {
      "cell_type": "code",
      "metadata": {
        "colab": {
          "base_uri": "https://localhost:8080/"
        },
        "id": "y8xXXmN-7oQB",
        "outputId": "e419c195-7973-4687-d7a0-ace03126f451"
      },
      "source": [
        "print(lista1)"
      ],
      "execution_count": null,
      "outputs": [
        {
          "output_type": "stream",
          "name": "stdout",
          "text": [
            "[12, 'Texto', True, [1, 2, 2]]\n"
          ]
        }
      ]
    },
    {
      "cell_type": "code",
      "metadata": {
        "colab": {
          "base_uri": "https://localhost:8080/"
        },
        "id": "daLHIQ9f7pem",
        "outputId": "33271132-1625-49af-e10b-fe7a0165d18d"
      },
      "source": [
        "y = [2,3,2,5,6,1]\n",
        "print(y)"
      ],
      "execution_count": null,
      "outputs": [
        {
          "output_type": "stream",
          "name": "stdout",
          "text": [
            "[2, 3, 2, 5, 6, 1]\n"
          ]
        }
      ]
    },
    {
      "cell_type": "code",
      "metadata": {
        "colab": {
          "base_uri": "https://localhost:8080/"
        },
        "id": "nb-HV_OX70GN",
        "outputId": "5f396306-7362-4f3c-a23c-337d396d72de"
      },
      "source": [
        "x = y.sort()\n",
        "\n",
        "print(x)\n",
        "print(y)"
      ],
      "execution_count": null,
      "outputs": [
        {
          "output_type": "stream",
          "name": "stdout",
          "text": [
            "None\n",
            "[1, 2, 2, 3, 5, 6]\n"
          ]
        }
      ]
    },
    {
      "cell_type": "code",
      "metadata": {
        "id": "pYkeC_m58JNy"
      },
      "source": [
        "y = [*range(1,101,1)]"
      ],
      "execution_count": null,
      "outputs": []
    },
    {
      "cell_type": "code",
      "metadata": {
        "colab": {
          "base_uri": "https://localhost:8080/"
        },
        "id": "XiIY0Lqh7_mc",
        "outputId": "aadd77ac-d4e7-4dad-e74a-8f66698fcac4"
      },
      "source": [
        "print(y)"
      ],
      "execution_count": null,
      "outputs": [
        {
          "output_type": "stream",
          "name": "stdout",
          "text": [
            "[1, 2, 3, 4, 5, 6, 7, 8, 9, 10, 11, 12, 13, 14, 15, 16, 17, 18, 19, 20, 21, 22, 23, 24, 25, 26, 27, 28, 29, 30, 31, 32, 33, 34, 35, 36, 37, 38, 39, 40, 41, 42, 43, 44, 45, 46, 47, 48, 49, 50, 51, 52, 53, 54, 55, 56, 57, 58, 59, 60, 61, 62, 63, 64, 65, 66, 67, 68, 69, 70, 71, 72, 73, 74, 75, 76, 77, 78, 79, 80, 81, 82, 83, 84, 85, 86, 87, 88, 89, 90, 91, 92, 93, 94, 95, 96, 97, 98, 99, 100]\n"
          ]
        }
      ]
    },
    {
      "cell_type": "code",
      "metadata": {
        "colab": {
          "base_uri": "https://localhost:8080/"
        },
        "id": "mvFwKg799ELO",
        "outputId": "0a0a0911-a23d-44b2-af81-f2dccd65a58a"
      },
      "source": [
        "type(y)"
      ],
      "execution_count": null,
      "outputs": [
        {
          "output_type": "execute_result",
          "data": {
            "text/plain": [
              "list"
            ]
          },
          "metadata": {},
          "execution_count": 154
        }
      ]
    },
    {
      "cell_type": "code",
      "metadata": {
        "id": "1SWJGblT9FK3"
      },
      "source": [
        "tupla1 = (2,3,1,4)"
      ],
      "execution_count": null,
      "outputs": []
    },
    {
      "cell_type": "code",
      "metadata": {
        "colab": {
          "base_uri": "https://localhost:8080/"
        },
        "id": "kxHUr38d91CF",
        "outputId": "ffdb4044-a47a-4b5a-874e-138310817bcb"
      },
      "source": [
        "print(tupla1)"
      ],
      "execution_count": null,
      "outputs": [
        {
          "output_type": "stream",
          "name": "stdout",
          "text": [
            "(2, 3, 1, 4)\n"
          ]
        }
      ]
    },
    {
      "cell_type": "code",
      "metadata": {
        "id": "9SZiPEbj96yU"
      },
      "source": [
        "z = list(tupla1)\n",
        "z.sort()"
      ],
      "execution_count": null,
      "outputs": []
    },
    {
      "cell_type": "code",
      "metadata": {
        "colab": {
          "base_uri": "https://localhost:8080/"
        },
        "id": "VXL9vneE_B7e",
        "outputId": "743b6f9e-9a0d-4e47-9c81-7badb424f1fd"
      },
      "source": [
        "print(lista1)"
      ],
      "execution_count": null,
      "outputs": [
        {
          "output_type": "stream",
          "name": "stdout",
          "text": [
            "[12, 'Texto', True, [1, 2, 2]]\n"
          ]
        }
      ]
    },
    {
      "cell_type": "code",
      "metadata": {
        "id": "wMpjTRe7_bSK"
      },
      "source": [
        "lista1.append(\"abcdef\")"
      ],
      "execution_count": null,
      "outputs": []
    },
    {
      "cell_type": "code",
      "metadata": {
        "colab": {
          "base_uri": "https://localhost:8080/"
        },
        "id": "9ukGfNJA_j-2",
        "outputId": "17c17499-daa8-43cf-d0a8-f4e54b6bbdf2"
      },
      "source": [
        "print(lista1)"
      ],
      "execution_count": null,
      "outputs": [
        {
          "output_type": "stream",
          "name": "stdout",
          "text": [
            "[12, 'Texto', True, [1, 2, 2], 'abcdef']\n"
          ]
        }
      ]
    },
    {
      "cell_type": "code",
      "metadata": {
        "colab": {
          "base_uri": "https://localhost:8080/"
        },
        "id": "t7tDO0uL_mep",
        "outputId": "8238fdb1-b74b-4b88-8f2e-204d66452e7a"
      },
      "source": [
        "lista1[3]"
      ],
      "execution_count": null,
      "outputs": [
        {
          "output_type": "execute_result",
          "data": {
            "text/plain": [
              "[1, 2, 2]"
            ]
          },
          "metadata": {},
          "execution_count": 172
        }
      ]
    },
    {
      "cell_type": "code",
      "metadata": {
        "id": "wRqQtq5R_s2c"
      },
      "source": [
        "lista2 = lista1.copy()"
      ],
      "execution_count": null,
      "outputs": []
    },
    {
      "cell_type": "code",
      "metadata": {
        "colab": {
          "base_uri": "https://localhost:8080/"
        },
        "id": "tH1vukiG_81k",
        "outputId": "864b4a9c-d2bf-4412-e734-0239dcf1b74b"
      },
      "source": [
        "lista2"
      ],
      "execution_count": null,
      "outputs": [
        {
          "output_type": "execute_result",
          "data": {
            "text/plain": [
              "[12, 'Texto', True, [1, 2, 2], 'abcdef']"
            ]
          },
          "metadata": {},
          "execution_count": 174
        }
      ]
    },
    {
      "cell_type": "code",
      "metadata": {
        "id": "GlmD40n__9uT"
      },
      "source": [
        "lista1.append(1)"
      ],
      "execution_count": null,
      "outputs": []
    },
    {
      "cell_type": "code",
      "metadata": {
        "colab": {
          "base_uri": "https://localhost:8080/"
        },
        "id": "6NeYKf8aAAHh",
        "outputId": "f4c9437b-9885-4e0f-f830-c42c602d7e39"
      },
      "source": [
        "print(lista1)\n",
        "print(lista2)"
      ],
      "execution_count": null,
      "outputs": [
        {
          "output_type": "stream",
          "name": "stdout",
          "text": [
            "[12, 'Texto', True, [1, 2, 2], 'abcdef', 1]\n",
            "[12, 'Texto', True, [1, 2, 2], 'abcdef']\n"
          ]
        }
      ]
    },
    {
      "cell_type": "code",
      "metadata": {
        "id": "G8F42EniAW4q"
      },
      "source": [
        "lista3 = lista1"
      ],
      "execution_count": null,
      "outputs": []
    },
    {
      "cell_type": "code",
      "metadata": {
        "colab": {
          "base_uri": "https://localhost:8080/"
        },
        "id": "PzADjWH3AcAv",
        "outputId": "2754150b-0d47-4501-c848-a3e6ece1e1ca"
      },
      "source": [
        "print(lista1)\n",
        "print(lista2)\n",
        "print(lista3)"
      ],
      "execution_count": null,
      "outputs": [
        {
          "output_type": "stream",
          "name": "stdout",
          "text": [
            "[12, 'Texto', True, [1, 2, 2], 'abcdef', 1]\n",
            "[12, 'Texto', True, [1, 2, 2], 'abcdef']\n",
            "[12, 'Texto', True, [1, 2, 2], 'abcdef', 1]\n"
          ]
        }
      ]
    },
    {
      "cell_type": "code",
      "metadata": {
        "id": "Xy2-WZw4Ae5F"
      },
      "source": [
        "lista3.append(\"teste\")"
      ],
      "execution_count": null,
      "outputs": []
    },
    {
      "cell_type": "code",
      "metadata": {
        "colab": {
          "base_uri": "https://localhost:8080/"
        },
        "id": "lcNsSMP8AkYd",
        "outputId": "ca5390d3-4268-4131-d65e-4c60f7d72ced"
      },
      "source": [
        "print(lista1)\n",
        "print(lista2)\n",
        "print(lista3)"
      ],
      "execution_count": null,
      "outputs": [
        {
          "output_type": "stream",
          "name": "stdout",
          "text": [
            "[12, 'Texto', True, [1, 2, 2], 'abcdef', 1, 'teste']\n",
            "[12, 'Texto', True, [1, 2, 2], 'abcdef']\n",
            "[12, 'Texto', True, [1, 2, 2], 'abcdef', 1, 'teste']\n"
          ]
        }
      ]
    },
    {
      "cell_type": "code",
      "metadata": {
        "id": "1DVhpehKAolT"
      },
      "source": [
        "lista4 = lista1.copy()"
      ],
      "execution_count": null,
      "outputs": []
    },
    {
      "cell_type": "code",
      "metadata": {
        "id": "N4r0fFD6Aqmc"
      },
      "source": [
        "lista4.append(999)"
      ],
      "execution_count": null,
      "outputs": []
    },
    {
      "cell_type": "code",
      "metadata": {
        "colab": {
          "base_uri": "https://localhost:8080/"
        },
        "id": "IdsWauh8AsVw",
        "outputId": "3ce97469-44fa-4835-8a23-a067eaaf4fb1"
      },
      "source": [
        "print(lista1)\n",
        "print(lista2)\n",
        "print(lista3)\n",
        "print(lista4)"
      ],
      "execution_count": null,
      "outputs": [
        {
          "output_type": "stream",
          "name": "stdout",
          "text": [
            "[12, 'Texto', True, [1, 2, 2], 'abcdef', 1, 'teste']\n",
            "[12, 'Texto', True, [1, 2, 2], 'abcdef']\n",
            "[12, 'Texto', True, [1, 2, 2], 'abcdef', 1, 'teste']\n",
            "[12, 'Texto', True, [1, 2, 2], 'abcdef', 1, 'teste', 999]\n"
          ]
        }
      ]
    },
    {
      "cell_type": "code",
      "metadata": {
        "colab": {
          "base_uri": "https://localhost:8080/"
        },
        "id": "iP0UV_uFAuKA",
        "outputId": "dbd12af7-509e-4f6f-f008-c2d7155dc334"
      },
      "source": [
        "thisdict = {\n",
        "  \"brand\": \"Ford\",\n",
        "  \"model\": \"Mustang\",\n",
        "  \"year\": 1964,\n",
        "  \"year\": 2020\n",
        "}\n",
        "print(thisdict[\"year\"])"
      ],
      "execution_count": null,
      "outputs": [
        {
          "output_type": "stream",
          "name": "stdout",
          "text": [
            "2020\n"
          ]
        }
      ]
    },
    {
      "cell_type": "code",
      "metadata": {
        "colab": {
          "base_uri": "https://localhost:8080/"
        },
        "id": "ddiFt1d-BRPM",
        "outputId": "1b5f6f39-deca-4042-a7b9-08b14bf24419"
      },
      "source": [
        "print(thisdict)"
      ],
      "execution_count": null,
      "outputs": [
        {
          "output_type": "stream",
          "name": "stdout",
          "text": [
            "{'brand': 'Ford', 'model': 'Mustang', 'year': 2020}\n"
          ]
        }
      ]
    },
    {
      "cell_type": "code",
      "metadata": {
        "id": "pThIG9ZVBXPe"
      },
      "source": [
        "thisdict[\"year\"] = 9999"
      ],
      "execution_count": null,
      "outputs": []
    },
    {
      "cell_type": "code",
      "metadata": {
        "colab": {
          "base_uri": "https://localhost:8080/"
        },
        "id": "jn8WKE-NBXWY",
        "outputId": "b8a8e0a1-8a4f-4025-8375-488bb2ccd05e"
      },
      "source": [
        "print(thisdict)"
      ],
      "execution_count": null,
      "outputs": [
        {
          "output_type": "stream",
          "name": "stdout",
          "text": [
            "{'brand': 'Ford', 'model': 'Mustang', 'year': 9999}\n"
          ]
        }
      ]
    },
    {
      "cell_type": "markdown",
      "metadata": {
        "id": "02tESIB3B-BK"
      },
      "source": [
        "# Loops"
      ]
    },
    {
      "cell_type": "code",
      "metadata": {
        "colab": {
          "base_uri": "https://localhost:8080/"
        },
        "id": "OEwbfQitB_F0",
        "outputId": "e434ec2c-0565-44cf-a1c4-1fcbb2ea55d1"
      },
      "source": [
        "for i in range(11): #iteration (iteração != interação)\n",
        "  print(i*9)"
      ],
      "execution_count": null,
      "outputs": [
        {
          "output_type": "stream",
          "name": "stdout",
          "text": [
            "0\n",
            "9\n",
            "18\n",
            "27\n",
            "36\n",
            "45\n",
            "54\n",
            "63\n",
            "72\n",
            "81\n",
            "90\n"
          ]
        }
      ]
    },
    {
      "cell_type": "code",
      "metadata": {
        "colab": {
          "base_uri": "https://localhost:8080/"
        },
        "id": "NGHgw17MCm1r",
        "outputId": "e829a940-648f-4d78-8b35-f76ab3c498d8"
      },
      "source": [
        "i = 0\n",
        "\n",
        "while i < 11:\n",
        "  print(i)\n",
        "  i = i + 1"
      ],
      "execution_count": null,
      "outputs": [
        {
          "output_type": "stream",
          "name": "stdout",
          "text": [
            "0\n",
            "1\n",
            "2\n",
            "3\n",
            "4\n",
            "5\n",
            "6\n",
            "7\n",
            "8\n",
            "9\n",
            "10\n"
          ]
        }
      ]
    },
    {
      "cell_type": "code",
      "metadata": {
        "colab": {
          "base_uri": "https://localhost:8080/"
        },
        "id": "fZmfZCA9C5mI",
        "outputId": "97c49da7-a154-452e-e7ad-0d3cc464b841"
      },
      "source": [
        "for i in range(11): #iteration (iteração != interação)\n",
        "  if i == 5:\n",
        "    print(\"Sucesso: você tirou 5!\")\n",
        "  else:\n",
        "    print(\"Fracasso\")"
      ],
      "execution_count": null,
      "outputs": [
        {
          "output_type": "stream",
          "name": "stdout",
          "text": [
            "Fracasso\n",
            "Fracasso\n",
            "Fracasso\n",
            "Fracasso\n",
            "Fracasso\n",
            "Sucesso: você tirou 5!\n",
            "Fracasso\n",
            "Fracasso\n",
            "Fracasso\n",
            "Fracasso\n",
            "Fracasso\n"
          ]
        }
      ]
    },
    {
      "cell_type": "code",
      "metadata": {
        "colab": {
          "base_uri": "https://localhost:8080/"
        },
        "id": "UtrbmYDDDXMg",
        "outputId": "69226d5a-e63a-4229-b76b-0b82a5f41e46"
      },
      "source": [
        "for i in range(10):\n",
        "  print(i,\"* 3 =\", i*3)"
      ],
      "execution_count": null,
      "outputs": [
        {
          "output_type": "stream",
          "name": "stdout",
          "text": [
            "0 * 3 = 0\n",
            "1 * 3 = 3\n",
            "2 * 3 = 6\n",
            "3 * 3 = 9\n",
            "4 * 3 = 12\n",
            "5 * 3 = 15\n",
            "6 * 3 = 18\n",
            "7 * 3 = 21\n",
            "8 * 3 = 24\n",
            "9 * 3 = 27\n"
          ]
        }
      ]
    }
  ]
}